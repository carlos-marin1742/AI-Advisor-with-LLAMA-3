{
 "cells": [
  {
   "cell_type": "code",
   "execution_count": 2,
   "id": "2ac9b15c",
   "metadata": {},
   "outputs": [],
   "source": [
    "### Mark Down Cell"
   ]
  },
  {
   "cell_type": "code",
   "execution_count": 7,
   "id": "0b3ca457",
   "metadata": {},
   "outputs": [],
   "source": [
    "#Importing packages\n",
    "import yfinance as yf\n",
    "import pandas as pd\n",
    "import schedule\n",
    "import time \n",
    "import ollama\n",
    "from datetime import datetime, timedelta"
   ]
  },
  {
   "cell_type": "code",
   "execution_count": 11,
   "id": "990cada5",
   "metadata": {},
   "outputs": [
    {
     "data": {
      "text/html": [
       "<div>\n",
       "<style scoped>\n",
       "    .dataframe tbody tr th:only-of-type {\n",
       "        vertical-align: middle;\n",
       "    }\n",
       "\n",
       "    .dataframe tbody tr th {\n",
       "        vertical-align: top;\n",
       "    }\n",
       "\n",
       "    .dataframe thead th {\n",
       "        text-align: right;\n",
       "    }\n",
       "</style>\n",
       "<table border=\"1\" class=\"dataframe\">\n",
       "  <thead>\n",
       "    <tr style=\"text-align: right;\">\n",
       "      <th></th>\n",
       "      <th>Open</th>\n",
       "      <th>High</th>\n",
       "      <th>Low</th>\n",
       "      <th>Close</th>\n",
       "      <th>Volume</th>\n",
       "      <th>Dividends</th>\n",
       "      <th>Stock Splits</th>\n",
       "    </tr>\n",
       "    <tr>\n",
       "      <th>Datetime</th>\n",
       "      <th></th>\n",
       "      <th></th>\n",
       "      <th></th>\n",
       "      <th></th>\n",
       "      <th></th>\n",
       "      <th></th>\n",
       "      <th></th>\n",
       "    </tr>\n",
       "  </thead>\n",
       "  <tbody>\n",
       "    <tr>\n",
       "      <th>2024-11-08 09:30:00-05:00</th>\n",
       "      <td>227.139999</td>\n",
       "      <td>227.759995</td>\n",
       "      <td>227.139999</td>\n",
       "      <td>227.639999</td>\n",
       "      <td>1084464</td>\n",
       "      <td>0.25</td>\n",
       "      <td>0.0</td>\n",
       "    </tr>\n",
       "    <tr>\n",
       "      <th>2024-11-08 09:31:00-05:00</th>\n",
       "      <td>227.639999</td>\n",
       "      <td>228.169998</td>\n",
       "      <td>227.470001</td>\n",
       "      <td>228.140106</td>\n",
       "      <td>237988</td>\n",
       "      <td>0.00</td>\n",
       "      <td>0.0</td>\n",
       "    </tr>\n",
       "    <tr>\n",
       "      <th>2024-11-08 09:32:00-05:00</th>\n",
       "      <td>228.179993</td>\n",
       "      <td>228.459396</td>\n",
       "      <td>228.080002</td>\n",
       "      <td>228.450104</td>\n",
       "      <td>221266</td>\n",
       "      <td>0.00</td>\n",
       "      <td>0.0</td>\n",
       "    </tr>\n",
       "    <tr>\n",
       "      <th>2024-11-08 09:33:00-05:00</th>\n",
       "      <td>228.460007</td>\n",
       "      <td>228.660004</td>\n",
       "      <td>228.380005</td>\n",
       "      <td>228.380005</td>\n",
       "      <td>192971</td>\n",
       "      <td>0.00</td>\n",
       "      <td>0.0</td>\n",
       "    </tr>\n",
       "    <tr>\n",
       "      <th>2024-11-08 09:34:00-05:00</th>\n",
       "      <td>228.369995</td>\n",
       "      <td>228.380005</td>\n",
       "      <td>228.000000</td>\n",
       "      <td>228.125000</td>\n",
       "      <td>155260</td>\n",
       "      <td>0.00</td>\n",
       "      <td>0.0</td>\n",
       "    </tr>\n",
       "  </tbody>\n",
       "</table>\n",
       "</div>"
      ],
      "text/plain": [
       "                                 Open        High         Low       Close  \\\n",
       "Datetime                                                                    \n",
       "2024-11-08 09:30:00-05:00  227.139999  227.759995  227.139999  227.639999   \n",
       "2024-11-08 09:31:00-05:00  227.639999  228.169998  227.470001  228.140106   \n",
       "2024-11-08 09:32:00-05:00  228.179993  228.459396  228.080002  228.450104   \n",
       "2024-11-08 09:33:00-05:00  228.460007  228.660004  228.380005  228.380005   \n",
       "2024-11-08 09:34:00-05:00  228.369995  228.380005  228.000000  228.125000   \n",
       "\n",
       "                            Volume  Dividends  Stock Splits  \n",
       "Datetime                                                     \n",
       "2024-11-08 09:30:00-05:00  1084464       0.25           0.0  \n",
       "2024-11-08 09:31:00-05:00   237988       0.00           0.0  \n",
       "2024-11-08 09:32:00-05:00   221266       0.00           0.0  \n",
       "2024-11-08 09:33:00-05:00   192971       0.00           0.0  \n",
       "2024-11-08 09:34:00-05:00   155260       0.00           0.0  "
      ]
     },
     "execution_count": 11,
     "metadata": {},
     "output_type": "execute_result"
    }
   ],
   "source": [
    "#Fetching historical data for Apple (AAPL) and DOW Jones (DJI) for yesterday (1-minute intervals)\n",
    "stock = yf.Ticker (\"AAPL\")\n",
    "dow_jones = yf.Ticker(\"^DJI\")\n",
    "data = stock.history(period=\"1d\", interval = \"1m\")\n",
    "dow_data= dow_jones.history(period=\"1d\", interval = \"1m\")\n",
    "data.head()"
   ]
  },
  {
   "cell_type": "code",
   "execution_count": null,
   "id": "63220589",
   "metadata": {},
   "outputs": [],
   "source": []
  },
  {
   "cell_type": "code",
   "execution_count": null,
   "id": "c071a869",
   "metadata": {},
   "outputs": [],
   "source": []
  },
  {
   "cell_type": "code",
   "execution_count": null,
   "id": "554630c0",
   "metadata": {},
   "outputs": [],
   "source": []
  },
  {
   "cell_type": "code",
   "execution_count": null,
   "id": "6be7f854",
   "metadata": {},
   "outputs": [],
   "source": []
  },
  {
   "cell_type": "code",
   "execution_count": null,
   "id": "6ed00790",
   "metadata": {},
   "outputs": [],
   "source": []
  },
  {
   "cell_type": "code",
   "execution_count": null,
   "id": "38ef5a96",
   "metadata": {},
   "outputs": [],
   "source": []
  },
  {
   "cell_type": "code",
   "execution_count": null,
   "id": "8af8bbc2",
   "metadata": {},
   "outputs": [],
   "source": []
  },
  {
   "cell_type": "code",
   "execution_count": null,
   "id": "a7bdbe72",
   "metadata": {},
   "outputs": [],
   "source": []
  },
  {
   "cell_type": "code",
   "execution_count": null,
   "id": "2fe7ca2f",
   "metadata": {},
   "outputs": [],
   "source": []
  },
  {
   "cell_type": "code",
   "execution_count": null,
   "id": "ae034e7d",
   "metadata": {},
   "outputs": [],
   "source": []
  },
  {
   "cell_type": "code",
   "execution_count": null,
   "id": "217ee203",
   "metadata": {},
   "outputs": [],
   "source": []
  }
 ],
 "metadata": {
  "kernelspec": {
   "display_name": "Python 3 (ipykernel)",
   "language": "python",
   "name": "python3"
  },
  "language_info": {
   "codemirror_mode": {
    "name": "ipython",
    "version": 3
   },
   "file_extension": ".py",
   "mimetype": "text/x-python",
   "name": "python",
   "nbconvert_exporter": "python",
   "pygments_lexer": "ipython3",
   "version": "3.8.8"
  }
 },
 "nbformat": 4,
 "nbformat_minor": 5
}
