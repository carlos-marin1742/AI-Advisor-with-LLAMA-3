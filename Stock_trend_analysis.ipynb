{
 "cells": [
  {
   "cell_type": "code",
   "execution_count": 2,
   "id": "4ba08cde",
   "metadata": {},
   "outputs": [],
   "source": [
    "### Mark Down Cell"
   ]
  },
  {
   "cell_type": "code",
   "execution_count": 7,
   "id": "6be03c33",
   "metadata": {},
   "outputs": [],
   "source": [
    "#Importing packages\n",
    "import yfinance as yf\n",
    "import pandas as pd\n",
    "import schedule\n",
    "import time \n",
    "import ollama\n",
    "from datetime import datetime, timedelta"
   ]
  },
  {
   "cell_type": "code",
   "execution_count": 11,
   "id": "475cc4b0",
   "metadata": {},
   "outputs": [
    {
     "data": {
      "text/html": [
       "<div>\n",
       "<style scoped>\n",
       "    .dataframe tbody tr th:only-of-type {\n",
       "        vertical-align: middle;\n",
       "    }\n",
       "\n",
       "    .dataframe tbody tr th {\n",
       "        vertical-align: top;\n",
       "    }\n",
       "\n",
       "    .dataframe thead th {\n",
       "        text-align: right;\n",
       "    }\n",
       "</style>\n",
       "<table border=\"1\" class=\"dataframe\">\n",
       "  <thead>\n",
       "    <tr style=\"text-align: right;\">\n",
       "      <th></th>\n",
       "      <th>Open</th>\n",
       "      <th>High</th>\n",
       "      <th>Low</th>\n",
       "      <th>Close</th>\n",
       "      <th>Volume</th>\n",
       "      <th>Dividends</th>\n",
       "      <th>Stock Splits</th>\n",
       "    </tr>\n",
       "    <tr>\n",
       "      <th>Datetime</th>\n",
       "      <th></th>\n",
       "      <th></th>\n",
       "      <th></th>\n",
       "      <th></th>\n",
       "      <th></th>\n",
       "      <th></th>\n",
       "      <th></th>\n",
       "    </tr>\n",
       "  </thead>\n",
       "  <tbody>\n",
       "    <tr>\n",
       "      <th>2024-11-08 09:30:00-05:00</th>\n",
       "      <td>227.139999</td>\n",
       "      <td>227.759995</td>\n",
       "      <td>227.139999</td>\n",
       "      <td>227.639999</td>\n",
       "      <td>1084464</td>\n",
       "      <td>0.25</td>\n",
       "      <td>0.0</td>\n",
       "    </tr>\n",
       "    <tr>\n",
       "      <th>2024-11-08 09:31:00-05:00</th>\n",
       "      <td>227.639999</td>\n",
       "      <td>228.169998</td>\n",
       "      <td>227.470001</td>\n",
       "      <td>228.140106</td>\n",
       "      <td>237988</td>\n",
       "      <td>0.00</td>\n",
       "      <td>0.0</td>\n",
       "    </tr>\n",
       "    <tr>\n",
       "      <th>2024-11-08 09:32:00-05:00</th>\n",
       "      <td>228.179993</td>\n",
       "      <td>228.459396</td>\n",
       "      <td>228.080002</td>\n",
       "      <td>228.450104</td>\n",
       "      <td>221266</td>\n",
       "      <td>0.00</td>\n",
       "      <td>0.0</td>\n",
       "    </tr>\n",
       "    <tr>\n",
       "      <th>2024-11-08 09:33:00-05:00</th>\n",
       "      <td>228.460007</td>\n",
       "      <td>228.660004</td>\n",
       "      <td>228.380005</td>\n",
       "      <td>228.380005</td>\n",
       "      <td>192971</td>\n",
       "      <td>0.00</td>\n",
       "      <td>0.0</td>\n",
       "    </tr>\n",
       "    <tr>\n",
       "      <th>2024-11-08 09:34:00-05:00</th>\n",
       "      <td>228.369995</td>\n",
       "      <td>228.380005</td>\n",
       "      <td>228.000000</td>\n",
       "      <td>228.125000</td>\n",
       "      <td>155260</td>\n",
       "      <td>0.00</td>\n",
       "      <td>0.0</td>\n",
       "    </tr>\n",
       "  </tbody>\n",
       "</table>\n",
       "</div>"
      ],
      "text/plain": [
       "                                 Open        High         Low       Close  \\\n",
       "Datetime                                                                    \n",
       "2024-11-08 09:30:00-05:00  227.139999  227.759995  227.139999  227.639999   \n",
       "2024-11-08 09:31:00-05:00  227.639999  228.169998  227.470001  228.140106   \n",
       "2024-11-08 09:32:00-05:00  228.179993  228.459396  228.080002  228.450104   \n",
       "2024-11-08 09:33:00-05:00  228.460007  228.660004  228.380005  228.380005   \n",
       "2024-11-08 09:34:00-05:00  228.369995  228.380005  228.000000  228.125000   \n",
       "\n",
       "                            Volume  Dividends  Stock Splits  \n",
       "Datetime                                                     \n",
       "2024-11-08 09:30:00-05:00  1084464       0.25           0.0  \n",
       "2024-11-08 09:31:00-05:00   237988       0.00           0.0  \n",
       "2024-11-08 09:32:00-05:00   221266       0.00           0.0  \n",
       "2024-11-08 09:33:00-05:00   192971       0.00           0.0  \n",
       "2024-11-08 09:34:00-05:00   155260       0.00           0.0  "
      ]
     },
     "execution_count": 11,
     "metadata": {},
     "output_type": "execute_result"
    }
   ],
   "source": [
    "#Fetching historical data for Apple (AAPL) and DOW Jones (DJI) for yesterday (1-minute intervals)\n",
    "stock = yf.Ticker (\"AAPL\")\n",
    "dow_jones = yf.Ticker(\"^DJI\")\n",
    "data = stock.history(period=\"1d\", interval = \"1m\")\n",
    "dow_data= dow_jones.history(period=\"1d\", interval = \"1m\")\n",
    "data.head()"
   ]
  },
  {
   "cell_type": "code",
   "execution_count": 13,
   "id": "61c006eb",
   "metadata": {},
   "outputs": [],
   "source": [
    "#Global variables to store rolling data for analysis\n",
    "rolling_window = pd.DataFrame()\n",
    "dow_rolling_window = pd.DataFrame()\n",
    "\n",
    "# Variables to track daily context\n",
    "daily_high = float('-inf')\n",
    "daily_low = float('-inf')\n",
    "buying_momentum = 0\n",
    "selling_momentum = 0"
   ]
  },
  {
   "cell_type": "code",
   "execution_count": null,
   "id": "db93110d",
   "metadata": {},
   "outputs": [],
   "source": [
    "#Function to process new stock update every minute\n",
    "def process_stock_update():\n",
    "    global rolling_window,m data, dow_rolling_window, dow_data\n",
    "    global daily_high, daily_low, buying_momentum, selling_momentum\n",
    "    \n",
    "    \n",
    "    if not data.empty and not dow_data.empty:"
   ]
  },
  {
   "cell_type": "code",
   "execution_count": null,
   "id": "37cde8ae",
   "metadata": {},
   "outputs": [],
   "source": []
  },
  {
   "cell_type": "code",
   "execution_count": null,
   "id": "bf81def5",
   "metadata": {},
   "outputs": [],
   "source": []
  },
  {
   "cell_type": "code",
   "execution_count": null,
   "id": "d3f7a130",
   "metadata": {},
   "outputs": [],
   "source": []
  },
  {
   "cell_type": "code",
   "execution_count": null,
   "id": "dabf9299",
   "metadata": {},
   "outputs": [],
   "source": []
  },
  {
   "cell_type": "code",
   "execution_count": null,
   "id": "ab77915e",
   "metadata": {},
   "outputs": [],
   "source": []
  },
  {
   "cell_type": "code",
   "execution_count": null,
   "id": "2bab6d5f",
   "metadata": {},
   "outputs": [],
   "source": []
  },
  {
   "cell_type": "code",
   "execution_count": null,
   "id": "186907a8",
   "metadata": {},
   "outputs": [],
   "source": []
  },
  {
   "cell_type": "code",
   "execution_count": null,
   "id": "a7424e7a",
   "metadata": {},
   "outputs": [],
   "source": []
  },
  {
   "cell_type": "code",
   "execution_count": null,
   "id": "2a550389",
   "metadata": {},
   "outputs": [],
   "source": []
  }
 ],
 "metadata": {
  "kernelspec": {
   "display_name": "Python 3 (ipykernel)",
   "language": "python",
   "name": "python3"
  },
  "language_info": {
   "codemirror_mode": {
    "name": "ipython",
    "version": 3
   },
   "file_extension": ".py",
   "mimetype": "text/x-python",
   "name": "python",
   "nbconvert_exporter": "python",
   "pygments_lexer": "ipython3",
   "version": "3.8.8"
  }
 },
 "nbformat": 4,
 "nbformat_minor": 5
}
